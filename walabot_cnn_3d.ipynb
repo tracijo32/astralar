{
  "nbformat": 4,
  "nbformat_minor": 0,
  "metadata": {
    "colab": {
      "name": "walabot-cnn-3d.ipynb",
      "version": "0.3.2",
      "provenance": [],
      "collapsed_sections": [],
      "include_colab_link": true
    },
    "kernelspec": {
      "name": "python3",
      "display_name": "Python 3"
    },
    "accelerator": "GPU"
  },
  "cells": [
    {
      "cell_type": "markdown",
      "metadata": {
        "id": "view-in-github",
        "colab_type": "text"
      },
      "source": [
        "<a href=\"https://colab.research.google.com/github/tracijo32/astralar/blob/master/walabot_cnn_3d.ipynb\" target=\"_parent\"><img src=\"https://colab.research.google.com/assets/colab-badge.svg\" alt=\"Open In Colab\"/></a>"
      ]
    },
    {
      "cell_type": "code",
      "metadata": {
        "id": "tTroS9ws9W7h",
        "colab_type": "code",
        "outputId": "819a3c97-02b1-498d-a1a9-e92e5d83adb5",
        "colab": {
          "base_uri": "https://localhost:8080/",
          "height": 391
        }
      },
      "source": [
        "! shred -u setup_google_colab.py\n",
        "! wget https://raw.githubusercontent.com/hse-aml/intro-to-dl/master/setup_google_colab.py -O setup_google_colab.py\n",
        "import setup_google_colab\n",
        "# please, uncomment the week you're working on\n",
        "# setup_google_colab.setup_week1()\n",
        "# setup_google_colab.setup_week2()\n",
        "setup_google_colab.setup_week3()\n",
        "# setup_google_colab.setup_week4()\n",
        "# setup_google_colab.setup_week5()\n",
        "# setup_google_colab.setup_week6()"
      ],
      "execution_count": 1,
      "outputs": [
        {
          "output_type": "stream",
          "text": [
            "shred: setup_google_colab.py: failed to open for writing: No such file or directory\n",
            "--2019-06-21 15:08:28--  https://raw.githubusercontent.com/hse-aml/intro-to-dl/master/setup_google_colab.py\n",
            "Resolving raw.githubusercontent.com (raw.githubusercontent.com)... 151.101.0.133, 151.101.64.133, 151.101.128.133, ...\n",
            "Connecting to raw.githubusercontent.com (raw.githubusercontent.com)|151.101.0.133|:443... connected.\n",
            "HTTP request sent, awaiting response... 200 OK\n",
            "Length: 3792 (3.7K) [text/plain]\n",
            "Saving to: ‘setup_google_colab.py’\n",
            "\n",
            "setup_google_colab. 100%[===================>]   3.70K  --.-KB/s    in 0s      \n",
            "\n",
            "2019-06-21 15:08:28 (63.4 MB/s) - ‘setup_google_colab.py’ saved [3792/3792]\n",
            "\n",
            "**************************************************\n",
            "102flowers.tgz\n",
            "**************************************************\n",
            "imagelabels.mat\n",
            "**************************************************\n",
            "inception_v3_weights_tf_dim_ordering_tf_kernels_notop.h5\n",
            "**************************************************\n",
            "cifar-10-batches-py.tar.gz\n",
            "**************************************************\n",
            "mnist.npz\n"
          ],
          "name": "stdout"
        }
      ]
    },
    {
      "cell_type": "code",
      "metadata": {
        "id": "z-9DoZSWDS4e",
        "colab_type": "code",
        "colab": {}
      },
      "source": [
        "import sys\n",
        "sys.path.append(\"..\")\n",
        "import download_utils"
      ],
      "execution_count": 0,
      "outputs": []
    },
    {
      "cell_type": "code",
      "metadata": {
        "id": "WD4HAQiW85k5",
        "colab_type": "code",
        "outputId": "9f94aa3d-30f3-46b3-d53e-eb4f30361c77",
        "colab": {
          "base_uri": "https://localhost:8080/",
          "height": 68
        }
      },
      "source": [
        "import tensorflow as tf\n",
        "import keras\n",
        "from keras import backend as K\n",
        "import numpy as np\n",
        "%matplotlib inline\n",
        "import matplotlib.pyplot as plt\n",
        "print(tf.__version__)\n",
        "print(keras.__version__)\n",
        "import grading_utils\n",
        "import keras_utils\n",
        "from keras_utils import reset_tf_session"
      ],
      "execution_count": 3,
      "outputs": [
        {
          "output_type": "stream",
          "text": [
            "Using TensorFlow backend.\n"
          ],
          "name": "stderr"
        },
        {
          "output_type": "stream",
          "text": [
            "1.14.0-rc1\n",
            "2.0.6\n"
          ],
          "name": "stdout"
        }
      ]
    },
    {
      "cell_type": "code",
      "metadata": {
        "id": "ddCMuFGE9lY0",
        "colab_type": "code",
        "outputId": "3cf55441-e76d-4cee-c27b-794620dd54e2",
        "colab": {
          "base_uri": "https://localhost:8080/",
          "height": 122
        }
      },
      "source": [
        "from google.colab import drive\n",
        "drive.mount('/content/gdrive')"
      ],
      "execution_count": 4,
      "outputs": [
        {
          "output_type": "stream",
          "text": [
            "Go to this URL in a browser: https://accounts.google.com/o/oauth2/auth?client_id=947318989803-6bn6qk8qdgf4n4g3pfee6491hc0brc4i.apps.googleusercontent.com&redirect_uri=urn%3Aietf%3Awg%3Aoauth%3A2.0%3Aoob&scope=email%20https%3A%2F%2Fwww.googleapis.com%2Fauth%2Fdocs.test%20https%3A%2F%2Fwww.googleapis.com%2Fauth%2Fdrive%20https%3A%2F%2Fwww.googleapis.com%2Fauth%2Fdrive.photos.readonly%20https%3A%2F%2Fwww.googleapis.com%2Fauth%2Fpeopleapi.readonly&response_type=code\n",
            "\n",
            "Enter your authorization code:\n",
            "··········\n",
            "Mounted at /content/gdrive\n"
          ],
          "name": "stdout"
        }
      ]
    },
    {
      "cell_type": "code",
      "metadata": {
        "id": "ftfqoQ4vDaq8",
        "colab_type": "code",
        "colab": {}
      },
      "source": [
        ""
      ],
      "execution_count": 0,
      "outputs": []
    },
    {
      "cell_type": "code",
      "metadata": {
        "id": "xTgbXcx49vOL",
        "colab_type": "code",
        "colab": {}
      },
      "source": [
        "root_path = 'gdrive/My Drive/Walabot-Data/'"
      ],
      "execution_count": 0,
      "outputs": []
    },
    {
      "cell_type": "code",
      "metadata": {
        "id": "y3F0UeT4_yBq",
        "colab_type": "code",
        "outputId": "63d4a007-f401-4e45-e76b-b309fced7e9a",
        "colab": {
          "base_uri": "https://localhost:8080/",
          "height": 34
        }
      },
      "source": [
        "!ls \"gdrive/My Drive/Walabot-Data\""
      ],
      "execution_count": 6,
      "outputs": [
        {
          "output_type": "stream",
          "text": [
            "data2d.h5  data.h5  rpi3-floatypotato\n"
          ],
          "name": "stdout"
        }
      ]
    },
    {
      "cell_type": "code",
      "metadata": {
        "id": "cRZrcPPN_pMq",
        "colab_type": "code",
        "colab": {}
      },
      "source": [
        "import numpy as np\n",
        "import h5py\n",
        "\n",
        "\n",
        "hf = h5py.File(root_path+'data.h5','r')\n",
        "fullclip = np.array(hf.get('fullclip'))\n",
        "emptyclip = np.array(hf.get('emptyclip'))\n",
        "pipe = np.array(hf.get('pipe'))\n",
        "hf.close()"
      ],
      "execution_count": 0,
      "outputs": []
    },
    {
      "cell_type": "code",
      "metadata": {
        "id": "AsysSoHOAAts",
        "colab_type": "code",
        "colab": {}
      },
      "source": [
        "X = np.stack([np.concatenate([fullclip,emptyclip,pipe])],axis=4)\n",
        "del fullclip\n",
        "del emptyclip\n",
        "del pipe"
      ],
      "execution_count": 0,
      "outputs": []
    },
    {
      "cell_type": "code",
      "metadata": {
        "id": "BDeZrYU75qWP",
        "colab_type": "code",
        "outputId": "506cf70f-f11a-4f4f-8dc5-5e7d13a63437",
        "colab": {
          "base_uri": "https://localhost:8080/",
          "height": 34
        }
      },
      "source": [
        "X.shape"
      ],
      "execution_count": 9,
      "outputs": [
        {
          "output_type": "execute_result",
          "data": {
            "text/plain": [
              "(15000, 60, 50, 10, 1)"
            ]
          },
          "metadata": {
            "tags": []
          },
          "execution_count": 9
        }
      ]
    },
    {
      "cell_type": "code",
      "metadata": {
        "id": "LVid00qpFRA-",
        "colab_type": "code",
        "colab": {}
      },
      "source": [
        "y = np.array([0]*5000 + [1]*5000 + [2]*5000)"
      ],
      "execution_count": 0,
      "outputs": []
    },
    {
      "cell_type": "code",
      "metadata": {
        "id": "Y2iwkzzB5-q7",
        "colab_type": "code",
        "outputId": "60a249e3-1a8c-4cf1-f422-6a8498178f16",
        "colab": {
          "base_uri": "https://localhost:8080/",
          "height": 34
        }
      },
      "source": [
        "y.shape"
      ],
      "execution_count": 12,
      "outputs": [
        {
          "output_type": "execute_result",
          "data": {
            "text/plain": [
              "(15000,)"
            ]
          },
          "metadata": {
            "tags": []
          },
          "execution_count": 12
        }
      ]
    },
    {
      "cell_type": "code",
      "metadata": {
        "id": "Wiga3SezFbF9",
        "colab_type": "code",
        "colab": {}
      },
      "source": [
        "from sklearn.model_selection import train_test_split\n",
        "X_train,X_test,y_train,y_test = train_test_split(X,y,test_size=0.2)\n",
        "del X\n",
        "del y"
      ],
      "execution_count": 0,
      "outputs": []
    },
    {
      "cell_type": "code",
      "metadata": {
        "id": "0GcjWax25EFg",
        "colab_type": "code",
        "colab": {}
      },
      "source": [
        "y_train2 = keras.utils.to_categorical(y_train)\n",
        "y_test2 = keras.utils.to_categorical(y_test)"
      ],
      "execution_count": 0,
      "outputs": []
    },
    {
      "cell_type": "code",
      "metadata": {
        "id": "JBB72SyfAYla",
        "colab_type": "code",
        "colab": {}
      },
      "source": [
        "# import necessary building blocks\n",
        "from keras.models import Sequential\n",
        "from keras.layers import Conv3D, Conv2D, MaxPooling2D, MaxPooling3D, Flatten, Dense, Activation, Dropout\n",
        "from keras.layers.advanced_activations import LeakyReLU"
      ],
      "execution_count": 0,
      "outputs": []
    },
    {
      "cell_type": "code",
      "metadata": {
        "id": "9X6YQOKTEHT1",
        "colab_type": "code",
        "colab": {}
      },
      "source": [
        "def make_model():\n",
        "    \"\"\"\n",
        "    Define your model architecture here.\n",
        "    Returns `Sequential` model.\n",
        "    \"\"\"\n",
        "    model = Sequential()\n",
        "    \n",
        "    model.add(Conv3D(16,(2,2,2),padding='same',input_shape=(60,50,10,1)))\n",
        "    model.add(LeakyReLU(0.1))\n",
        "    model.add(Conv3D(32,(2,2,2),padding='same'))\n",
        "    model.add(LeakyReLU(0.1))\n",
        "    model.add(MaxPooling3D((2,2,2)))\n",
        "              \n",
        "    model.add(Flatten())\n",
        "    model.add(Dense(256))\n",
        "    model.add(Dense(3))\n",
        "    model.add(Activation('softmax'))\n",
        "    \n",
        "    return model"
      ],
      "execution_count": 0,
      "outputs": []
    },
    {
      "cell_type": "code",
      "metadata": {
        "id": "aft9EtHyEkGu",
        "colab_type": "code",
        "outputId": "af111751-dbd4-44ce-cbd6-474991c7c5ac",
        "colab": {
          "base_uri": "https://localhost:8080/",
          "height": 700
        }
      },
      "source": [
        "# describe model\n",
        "s = reset_tf_session()  # clear default graph\n",
        "model = make_model()\n",
        "model.summary()"
      ],
      "execution_count": 17,
      "outputs": [
        {
          "output_type": "stream",
          "text": [
            "WARNING: Logging before flag parsing goes to stderr.\n",
            "W0621 15:14:59.486778 139890411071360 deprecation_wrapper.py:119] From /content/keras_utils.py:68: The name tf.get_default_session is deprecated. Please use tf.compat.v1.get_default_session instead.\n",
            "\n",
            "W0621 15:14:59.491143 139890411071360 deprecation_wrapper.py:119] From /usr/local/lib/python3.6/dist-packages/keras/backend/tensorflow_backend.py:79: The name tf.reset_default_graph is deprecated. Please use tf.compat.v1.reset_default_graph instead.\n",
            "\n",
            "W0621 15:14:59.492688 139890411071360 deprecation_wrapper.py:119] From /usr/local/lib/python3.6/dist-packages/keras/backend/tensorflow_backend.py:82: The name tf.placeholder is deprecated. Please use tf.compat.v1.placeholder instead.\n",
            "\n",
            "W0621 15:14:59.536908 139890411071360 deprecation_wrapper.py:119] From /usr/local/lib/python3.6/dist-packages/keras/backend/tensorflow_backend.py:84: The name tf.get_default_graph is deprecated. Please use tf.compat.v1.get_default_graph instead.\n",
            "\n",
            "W0621 15:14:59.537990 139890411071360 deprecation_wrapper.py:119] From /content/keras_utils.py:75: The name tf.ConfigProto is deprecated. Please use tf.compat.v1.ConfigProto instead.\n",
            "\n",
            "W0621 15:15:00.989918 139890411071360 deprecation.py:506] From /usr/local/lib/python3.6/dist-packages/keras/backend/tensorflow_backend.py:1210: calling reduce_prod_v1 (from tensorflow.python.ops.math_ops) with keep_dims is deprecated and will be removed in a future version.\n",
            "Instructions for updating:\n",
            "keep_dims is deprecated, use keepdims instead\n"
          ],
          "name": "stderr"
        },
        {
          "output_type": "stream",
          "text": [
            "_________________________________________________________________\n",
            "Layer (type)                 Output Shape              Param #   \n",
            "=================================================================\n",
            "conv3d_1 (Conv3D)            (None, 60, 50, 10, 16)    144       \n",
            "_________________________________________________________________\n",
            "leaky_re_lu_1 (LeakyReLU)    (None, 60, 50, 10, 16)    0         \n",
            "_________________________________________________________________\n",
            "conv3d_2 (Conv3D)            (None, 60, 50, 10, 32)    4128      \n",
            "_________________________________________________________________\n",
            "leaky_re_lu_2 (LeakyReLU)    (None, 60, 50, 10, 32)    0         \n",
            "_________________________________________________________________\n",
            "max_pooling3d_1 (MaxPooling3 (None, 30, 25, 5, 32)     0         \n",
            "_________________________________________________________________\n",
            "flatten_1 (Flatten)          (None, 120000)            0         \n",
            "_________________________________________________________________\n",
            "dense_1 (Dense)              (None, 256)               30720256  \n",
            "_________________________________________________________________\n",
            "dense_2 (Dense)              (None, 3)                 771       \n",
            "_________________________________________________________________\n",
            "activation_1 (Activation)    (None, 3)                 0         \n",
            "=================================================================\n",
            "Total params: 30,725,299\n",
            "Trainable params: 30,725,299\n",
            "Non-trainable params: 0\n",
            "_________________________________________________________________\n"
          ],
          "name": "stdout"
        }
      ]
    },
    {
      "cell_type": "code",
      "metadata": {
        "id": "CPfMEM6KEmUu",
        "colab_type": "code",
        "colab": {
          "base_uri": "https://localhost:8080/",
          "height": 122
        },
        "outputId": "119db9e9-5899-48d2-b71c-285d502f5fda"
      },
      "source": [
        "INIT_LR = 5e-3  # initial learning rate\n",
        "BATCH_SIZE = 32\n",
        "EPOCHS = 10\n",
        "\n",
        "s = reset_tf_session()  # clear default graph\n",
        "# don't call K.set_learning_phase() !!! (otherwise will enable dropout in train/test simultaneously)\n",
        "model = make_model()  # define our model\n",
        "\n",
        "# prepare model for fitting (loss, optimizer, etc)\n",
        "model.compile(\n",
        "    loss='categorical_crossentropy',  # we train 10-way classification\n",
        "    optimizer=keras.optimizers.adamax(lr=INIT_LR),  # for SGD\n",
        "    metrics=['accuracy']  # report accuracy during training\n",
        ")\n",
        "\n",
        "# scheduler of learning rate (decay with epochs)\n",
        "def lr_scheduler(epoch):\n",
        "    return INIT_LR * 0.9 ** epoch\n",
        "\n",
        "# callback for printing of actual learning rate used by optimizer\n",
        "class LrHistory(keras.callbacks.Callback):\n",
        "    def on_epoch_begin(self, epoch, logs={}):\n",
        "        print(\"Learning rate:\", K.get_value(model.optimizer.lr))"
      ],
      "execution_count": 18,
      "outputs": [
        {
          "output_type": "stream",
          "text": [
            "W0621 15:15:40.547461 139890411071360 deprecation_wrapper.py:119] From /usr/local/lib/python3.6/dist-packages/keras/optimizers.py:697: The name tf.train.Optimizer is deprecated. Please use tf.compat.v1.train.Optimizer instead.\n",
            "\n",
            "W0621 15:15:40.550765 139890411071360 deprecation.py:506] From /usr/local/lib/python3.6/dist-packages/keras/backend/tensorflow_backend.py:2745: calling reduce_sum_v1 (from tensorflow.python.ops.math_ops) with keep_dims is deprecated and will be removed in a future version.\n",
            "Instructions for updating:\n",
            "keep_dims is deprecated, use keepdims instead\n"
          ],
          "name": "stderr"
        }
      ]
    },
    {
      "cell_type": "code",
      "metadata": {
        "id": "SKNRbVYHFGOF",
        "colab_type": "code",
        "colab": {}
      },
      "source": [
        "# we will save model checkpoints to continue training in case of kernel death\n",
        "model_filename = 'walabot.{0:03d}.hdf5'\n",
        "last_finished_epoch = None\n",
        "\n",
        "#### uncomment below to continue training from model checkpoint\n",
        "#### fill `last_finished_epoch` with your latest finished epoch\n",
        "# from keras.models import load_model\n",
        "# s = reset_tf_session()\n",
        "# last_finished_epoch = 7\n",
        "# model = load_model(model_filename.format(last_finished_epoch))"
      ],
      "execution_count": 0,
      "outputs": []
    },
    {
      "cell_type": "code",
      "metadata": {
        "id": "mNBHJEMxFMfS",
        "colab_type": "code",
        "outputId": "97950290-6dfc-4466-ad48-1f47af699ced",
        "colab": {
          "base_uri": "https://localhost:8080/",
          "height": 1176
        }
      },
      "source": [
        "# fit model\n",
        "model.fit(\n",
        "    X_train, y_train2,  # prepared data\n",
        "    batch_size=BATCH_SIZE,\n",
        "    epochs=EPOCHS,\n",
        "    callbacks=[keras.callbacks.LearningRateScheduler(lr_scheduler), \n",
        "               LrHistory(), \n",
        "               keras_utils.TqdmProgressCallback(),\n",
        "               keras_utils.ModelSaveCallback(model_filename)],\n",
        "    validation_data=(X_test, y_test2),\n",
        "    shuffle=True,\n",
        "    verbose=0,\n",
        "    initial_epoch=last_finished_epoch or 0\n",
        ")"
      ],
      "execution_count": 21,
      "outputs": [
        {
          "output_type": "stream",
          "text": [
            "W0621 15:16:05.678943 139890411071360 deprecation.py:323] From /usr/local/lib/python3.6/dist-packages/tensorflow/python/ops/math_grad.py:1250: add_dispatch_support.<locals>.wrapper (from tensorflow.python.ops.array_ops) is deprecated and will be removed in a future version.\n",
            "Instructions for updating:\n",
            "Use tf.where in 2.0, which has the same broadcast rule as np.where\n",
            "W0621 15:16:05.780339 139890411071360 deprecation.py:506] From /usr/local/lib/python3.6/dist-packages/keras/backend/tensorflow_backend.py:602: calling Constant.__init__ (from tensorflow.python.ops.init_ops) with dtype is deprecated and will be removed in a future version.\n",
            "Instructions for updating:\n",
            "Call initializer instance with the dtype argument instead of passing it to the constructor\n"
          ],
          "name": "stderr"
        },
        {
          "output_type": "stream",
          "text": [
            "Learning rate: 0.005\n",
            "\n",
            "Epoch 1/10\n",
            "**************************************************\n",
            "loss: 0.4862; acc: 0.9684; val_loss: 0.0537; val_acc: 0.9967\n",
            "Model saved in walabot.000.hdf5\n",
            "Learning rate: 0.0045\n",
            "\n",
            "Epoch 2/10\n",
            "**************************************************\n",
            "loss: 0.0470; acc: 0.9971; val_loss: 0.0537; val_acc: 0.9967\n",
            "Model saved in walabot.001.hdf5\n",
            "Learning rate: 0.00405\n",
            "\n",
            "Epoch 3/10\n",
            "**************************************************\n",
            "loss: 0.0470; acc: 0.9971; val_loss: 0.0537; val_acc: 0.9967\n",
            "Model saved in walabot.002.hdf5\n",
            "Learning rate: 0.003645\n",
            "\n",
            "Epoch 4/10\n",
            "**************************************************\n",
            "loss: 0.0470; acc: 0.9971; val_loss: 0.0537; val_acc: 0.9967\n",
            "Model saved in walabot.003.hdf5\n",
            "Learning rate: 0.0032805\n",
            "\n",
            "Epoch 5/10\n",
            "**************************************************\n",
            "loss: 0.0470; acc: 0.9971; val_loss: 0.0537; val_acc: 0.9967\n",
            "Model saved in walabot.004.hdf5\n",
            "Learning rate: 0.00295245\n",
            "\n",
            "Epoch 6/10\n",
            "**************************************************\n",
            "loss: 0.0470; acc: 0.9971; val_loss: 0.0537; val_acc: 0.9967\n",
            "Model saved in walabot.005.hdf5\n",
            "Learning rate: 0.002657205\n",
            "\n",
            "Epoch 7/10\n",
            "**************************************************\n",
            "loss: 0.0470; acc: 0.9971; val_loss: 0.0537; val_acc: 0.9967\n",
            "Model saved in walabot.006.hdf5\n",
            "Learning rate: 0.0023914846\n",
            "\n",
            "Epoch 8/10\n",
            "**************************************************\n",
            "loss: 0.0470; acc: 0.9971; val_loss: 0.0537; val_acc: 0.9967\n",
            "Model saved in walabot.007.hdf5\n",
            "Learning rate: 0.002152336\n",
            "\n",
            "Epoch 9/10\n",
            "**************************************************\n",
            "loss: 0.0470; acc: 0.9971; val_loss: 0.0537; val_acc: 0.9967\n",
            "Model saved in walabot.008.hdf5\n",
            "Learning rate: 0.0019371024\n",
            "\n",
            "Epoch 10/10\n",
            "**************************************************\n",
            "loss: 0.0470; acc: 0.9971; val_loss: 0.0537; val_acc: 0.9967\n",
            "Model saved in walabot.009.hdf5\n"
          ],
          "name": "stdout"
        },
        {
          "output_type": "execute_result",
          "data": {
            "text/plain": [
              "<keras.callbacks.History at 0x7f3a6e61bcf8>"
            ]
          },
          "metadata": {
            "tags": []
          },
          "execution_count": 21
        }
      ]
    },
    {
      "cell_type": "code",
      "metadata": {
        "id": "kJ0K1Vog9EPG",
        "colab_type": "code",
        "outputId": "b7a82268-e8cd-40f6-ac59-f6c767227786",
        "colab": {
          "base_uri": "https://localhost:8080/",
          "height": 34
        }
      },
      "source": [
        "y_pred_test = model.predict_proba(X_test)\n",
        "y_pred_test_classes = np.argmax(y_pred_test, axis=1)\n",
        "y_pred_test_max_probas = np.max(y_pred_test, axis=1)"
      ],
      "execution_count": 22,
      "outputs": [
        {
          "output_type": "stream",
          "text": [
            "2976/3000 [============================>.] - ETA: 0s"
          ],
          "name": "stdout"
        }
      ]
    },
    {
      "cell_type": "code",
      "metadata": {
        "id": "YazmVACn_PCa",
        "colab_type": "code",
        "outputId": "840ece39-ec28-46ab-a717-054cbdb1f083",
        "colab": {
          "base_uri": "https://localhost:8080/",
          "height": 34
        }
      },
      "source": [
        "y_pred.shape"
      ],
      "execution_count": 0,
      "outputs": [
        {
          "output_type": "execute_result",
          "data": {
            "text/plain": [
              "(3000, 3)"
            ]
          },
          "metadata": {
            "tags": []
          },
          "execution_count": 41
        }
      ]
    },
    {
      "cell_type": "code",
      "metadata": {
        "id": "U5gPmZuE_VGB",
        "colab_type": "code",
        "colab": {
          "base_uri": "https://localhost:8080/",
          "height": 469
        },
        "outputId": "db1f03d6-55bc-4840-c0b1-ac4ed9c71a73"
      },
      "source": [
        "from sklearn.metrics import confusion_matrix, accuracy_score\n",
        "plt.figure(figsize=(7, 6))\n",
        "plt.title('Confusion matrix', fontsize=16)\n",
        "cm = confusion_matrix(y_test, y_pred_test_classes)\n",
        "plt.xticks(np.arange(3), ['fullclip','emptyclip','control'], rotation=45, fontsize=12)\n",
        "plt.yticks(np.arange(3), ['fullclip','emptyclip','control'], fontsize=12)\n",
        "plt.imshow(cm)\n",
        "for i in range(3):\n",
        "    for j in range(3):\n",
        "        if i == j:\n",
        "            color = 'k'\n",
        "        else:\n",
        "            color = 'w'\n",
        "        plt.text(i,j,cm[i,j],size=16,color=color,va='center',ha='center')\n",
        "plt.xlabel('Predicted label',size=16)\n",
        "plt.ylabel('True label',size=16)\n"
      ],
      "execution_count": 41,
      "outputs": [
        {
          "output_type": "execute_result",
          "data": {
            "text/plain": [
              "Text(0, 0.5, 'True label')"
            ]
          },
          "metadata": {
            "tags": []
          },
          "execution_count": 41
        },
        {
          "output_type": "display_data",
          "data": {
            "image/png": "[encoded data removed]",
            "text/plain": [
              "<Figure size 504x432 with 1 Axes>"
            ]
          },
          "metadata": {
            "tags": []
          }
        }
      ]
    },
    {
      "cell_type": "code",
      "metadata": {
        "id": "L6QKh55Z9iPH",
        "colab_type": "code",
        "colab": {
          "base_uri": "https://localhost:8080/",
          "height": 34
        },
        "outputId": "eb6701d2-55f2-41e4-e5e7-b40795de4c23"
      },
      "source": [
        "cm.ravel()"
      ],
      "execution_count": 37,
      "outputs": [
        {
          "output_type": "execute_result",
          "data": {
            "text/plain": [
              "array([1027,    0,    0,    1,  989,    0,    8,    1,  974])"
            ]
          },
          "metadata": {
            "tags": []
          },
          "execution_count": 37
        }
      ]
    },
    {
      "cell_type": "code",
      "metadata": {
        "id": "PEQj4nzJqNdD",
        "colab_type": "code",
        "colab": {
          "base_uri": "https://localhost:8080/",
          "height": 34
        },
        "outputId": "92b16b82-9b23-45fe-ddfa-c63ed1c0efb9"
      },
      "source": [
        "cm[2,0]"
      ],
      "execution_count": 39,
      "outputs": [
        {
          "output_type": "execute_result",
          "data": {
            "text/plain": [
              "8"
            ]
          },
          "metadata": {
            "tags": []
          },
          "execution_count": 39
        }
      ]
    },
    {
      "cell_type": "code",
      "metadata": {
        "id": "b9evKXJ-shgW",
        "colab_type": "code",
        "colab": {}
      },
      "source": [
        ""
      ],
      "execution_count": 0,
      "outputs": []
    }
  ]
}