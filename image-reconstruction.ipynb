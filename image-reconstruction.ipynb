{
 "cells": [
  {
   "cell_type": "code",
   "execution_count": 1,
   "metadata": {},
   "outputs": [],
   "source": [
    "import pandas as pd\n",
    "import numpy as np"
   ]
  },
  {
   "cell_type": "code",
   "execution_count": 2,
   "metadata": {},
   "outputs": [],
   "source": [
    "def read_rawimage(file,slices=np.arange(-45,45,8)):\n",
    "    df = pd.read_csv(file,header=None)\n",
    "    image_cols = df.iloc[:,:-4].astype(str)\n",
    "    last_col = df.iloc[:,-2]/100*(180/np.pi)\n",
    "    new_last_col = last_col.apply(lambda x: np.abs(x-slices).argmin())\n",
    "    image = image_cols.apply(lambda col: np.array(eval(','.join(col.to_list()))).astype(float),axis=1)\n",
    "    new_df = pd.DataFrame({'Image':image,'Slice':new_last_col})\n",
    "    return new_df"
   ]
  },
  {
   "cell_type": "code",
   "execution_count": 3,
   "metadata": {},
   "outputs": [],
   "source": [
    "fullclip = read_rawimage('data-RawImage-rpi1.csv')\n",
    "emptyclip = read_rawimage('data-RawImage-rpi1-empty-0619.csv')\n",
    "pipe = read_rawimage('data-RawImage-rpi1-pipe-0619.csv')\n"
   ]
  },
  {
   "cell_type": "code",
   "execution_count": 4,
   "metadata": {},
   "outputs": [
    {
     "data": {
      "text/plain": [
       "0    3\n",
       "1    3\n",
       "2    8\n",
       "3    8\n",
       "4    3\n",
       "Name: Slice, dtype: int64"
      ]
     },
     "execution_count": 4,
     "metadata": {},
     "output_type": "execute_result"
    }
   ],
   "source": [
    "fullclip['Slice'].head()"
   ]
  },
  {
   "cell_type": "code",
   "execution_count": 14,
   "metadata": {},
   "outputs": [],
   "source": [
    "def generate_augmented_images(df,n_images=1000,n_slices=12,\n",
    "                              xshift=10,yshift=10,xcrop=[20,80],ycrop=[0,50],zcrop=[1,11]):\n",
    "    xdim,ydim = df['Image'][0].shape\n",
    "    full_stack = []\n",
    "    for slc in range(n_slices):\n",
    "        df_slc = df[df['Slice']==slc]\n",
    "        if len(df_slc) == 0:\n",
    "            sample_slc = np.zeros((n_images,xdim,ydim))\n",
    "        else:\n",
    "            sample_slc = np.stack(df_slc.sample(n_images,replace=True)['Image'].to_list())\n",
    "        full_stack.append(sample_slc)\n",
    "        \n",
    "    full_stack = np.stack(full_stack,axis=3)\n",
    "    \n",
    "    x = np.random.randint(xshift,size=n_images)\n",
    "    y = np.random.randint(yshift,size=n_images)\n",
    "    for i in range(n_images):\n",
    "        orig = full_stack[i,:,:,:]\n",
    "        aug = np.zeros_like(orig)\n",
    "        aug[x[i]:,y[i]:,:] = orig[:xdim-x[i],:ydim-y[i],:]\n",
    "        full_stack[i,:,:,:] = aug\n",
    "    \n",
    "    full_stack = full_stack[:,xcrop[0]:xcrop[1],ycrop[0]:ycrop[1],zcrop[0]:zcrop[1]]\n",
    "    \n",
    "    return full_stack\n",
    "            "
   ]
  },
  {
   "cell_type": "code",
   "execution_count": 15,
   "metadata": {},
   "outputs": [],
   "source": [
    "fullclip_stack = generate_augmented_images(fullclip,n_images=5000)\n",
    "emptyclip_stack = generate_augmented_images(emptyclip,n_images=5000)\n",
    "pipe_stack = generate_augmented_images(pipe,n_images=5000)"
   ]
  },
  {
   "cell_type": "code",
   "execution_count": 16,
   "metadata": {},
   "outputs": [],
   "source": [
    "import h5py"
   ]
  },
  {
   "cell_type": "code",
   "execution_count": 17,
   "metadata": {},
   "outputs": [],
   "source": [
    "hf = h5py.File('data.h5', 'w')\n",
    "hf.create_dataset('fullclip', data=fullclip_stack,compression=\"gzip\",compression_opts=9)\n",
    "hf.create_dataset('emptyclip',data=emptyclip_stack,compression=\"gzip\",compression_opts=9)\n",
    "hf.create_dataset('pipe',data=pipe_stack,compression=\"gzip\",compression_opts=9)\n",
    "hf.close()"
   ]
  },
  {
   "cell_type": "code",
   "execution_count": null,
   "metadata": {},
   "outputs": [],
   "source": []
  }
 ],
 "metadata": {
  "kernelspec": {
   "display_name": "Python 3",
   "language": "python",
   "name": "python3"
  },
  "language_info": {
   "codemirror_mode": {
    "name": "ipython",
    "version": 3
   },
   "file_extension": ".py",
   "mimetype": "text/x-python",
   "name": "python",
   "nbconvert_exporter": "python",
   "pygments_lexer": "ipython3",
   "version": "3.7.3"
  },
  "varInspector": {
   "cols": {
    "lenName": 16,
    "lenType": 16,
    "lenVar": 40
   },
   "kernels_config": {
    "python": {
     "delete_cmd_postfix": "",
     "delete_cmd_prefix": "del ",
     "library": "var_list.py",
     "varRefreshCmd": "print(var_dic_list())"
    },
    "r": {
     "delete_cmd_postfix": ") ",
     "delete_cmd_prefix": "rm(",
     "library": "var_list.r",
     "varRefreshCmd": "cat(var_dic_list()) "
    }
   },
   "types_to_exclude": [
    "module",
    "function",
    "builtin_function_or_method",
    "instance",
    "_Feature"
   ],
   "window_display": false
  }
 },
 "nbformat": 4,
 "nbformat_minor": 2
}
