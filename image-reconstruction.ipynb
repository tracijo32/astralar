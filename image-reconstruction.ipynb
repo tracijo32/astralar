{
 "cells": [
  {
   "cell_type": "code",
   "execution_count": 8,
   "metadata": {},
   "outputs": [],
   "source": [
    "import pandas as pd\n",
    "import numpy as np"
   ]
  },
  {
   "cell_type": "code",
   "execution_count": 37,
   "metadata": {},
   "outputs": [],
   "source": [
    "def read_rawimage(file,slices=np.arange(-45,45,8)):\n",
    "    df = pd.read_csv(file,header=None)\n",
    "    image_cols = df.iloc[:,:-4].astype(str)\n",
    "    last_col = df.iloc[:,-2]/100*(180/np.pi)\n",
    "    new_last_col = last_col.apply(lambda x: np.abs(x-slices).argmin())\n",
    "    image = image_cols.apply(lambda col: np.array(eval(','.join(col.to_list()))).astype(float),axis=1)\n",
    "    new_df = pd.DataFrame({'Image':image,'Slice':new_last_col})\n",
    "    return new_df"
   ]
  },
  {
   "cell_type": "code",
   "execution_count": 38,
   "metadata": {},
   "outputs": [],
   "source": [
    "fullclip = read_rawimage('data-RawImage-rpi1.csv')\n",
    "emptyclip = read_rawimage('data-RawImage-rpi1-empty-0619.csv')\n",
    "pipe = read_rawimage('data-RawImage-rpi1-pipe-0619.csv')"
   ]
  },
  {
   "cell_type": "code",
   "execution_count": 39,
   "metadata": {},
   "outputs": [
    {
     "data": {
      "text/plain": [
       "0    3\n",
       "1    3\n",
       "2    8\n",
       "3    8\n",
       "4    3\n",
       "Name: Slice, dtype: int64"
      ]
     },
     "execution_count": 39,
     "metadata": {},
     "output_type": "execute_result"
    }
   ],
   "source": [
    "fullclip['Slice'].head()"
   ]
  },
  {
   "cell_type": "code",
   "execution_count": 50,
   "metadata": {},
   "outputs": [
    {
     "ename": "SyntaxError",
     "evalue": "invalid syntax (<ipython-input-50-e8e23e5a0978>, line 9)",
     "output_type": "error",
     "traceback": [
      "\u001b[0;36m  File \u001b[0;32m\"<ipython-input-50-e8e23e5a0978>\"\u001b[0;36m, line \u001b[0;32m9\u001b[0m\n\u001b[0;31m    df_slices = df_slices.sample(n_images,replace=True) for slc in slices]\u001b[0m\n\u001b[0m                                                          ^\u001b[0m\n\u001b[0;31mSyntaxError\u001b[0m\u001b[0;31m:\u001b[0m invalid syntax\n"
     ]
    }
   ],
   "source": [
    "def generate_augmented_images(df,n_images=1000,slices=np.arange(-45,45,8),\n",
    "                              xshift=10,yshift=10,\n",
    "                              xcrop=[20,80],ycrop=[0,50],zcrop=[1,11]):\n",
    "    xdim,ydim = df['Images'][0].shape\n",
    "    df_slices = df[df['Slice'] == slc]\n",
    "    if len(df_slices) == 0:\n",
    "        full_stack = np.zeros((n_images,xdim,ydim))\n",
    "    else:\n",
    "        df_slices = [df_slices.sample(n_images,replace=True) for slc in slices]\n",
    "        full_stack = list(np.stack([np.stack(s['Image'].to_list(),axis=0) for s in df_slices],axis=3))\n",
    "    \n",
    "        x = np.random.randint(xshift,size=n_images)\n",
    "        y = np.random.randint(yshift,size=n_images)\n",
    "        for i in range(n_images):\n",
    "            orig = full_stack[i]\n",
    "            aug = np.zeros_like(orig)\n",
    "            aug[x[i]:,y[i]:,:] = orig[:xdim-x[i],:ydim-y[i],:]\n",
    "\n",
    "            full_stack[i] = aug[xcrop[0]:xcrop[1],ycrop[0]:ycrop[1],zcrop[0]:zcrop[1]]\n",
    "    \n",
    "    return np.stack(full_stack)"
   ]
  },
  {
   "cell_type": "code",
   "execution_count": 72,
   "metadata": {},
   "outputs": [],
   "source": [
    "def new_gen(df,n_images=1000,n_slices=12,xshift=10,yshift=10,xcrop=[20,80],ycrop=[0,50],zcrop=[1,11]):\n",
    "    xdim,ydim = df['Image'][0].shape\n",
    "    full_stack = []\n",
    "    for slc in range(n_slices):\n",
    "        df_slc = df[df['Slice']==slc]\n",
    "        if len(df_slc) == 0:\n",
    "            sample_slc = np.zeros((n_images,xdim,ydim))\n",
    "        else:\n",
    "            sample_slc = np.stack(df_slc.sample(n_images,replace=True)['Image'].to_list())\n",
    "        full_stack.append(sample_slc)\n",
    "        \n",
    "    full_stack = np.stack(full_stack,axis=3)\n",
    "    for i in range(n_images):\n",
    "        orig = full_stack[i,:,:,:]\n",
    "        aug = np.zeros_like(orig)\n",
    "        aug[]\n",
    "    \n",
    "    \n",
    "    return full_stack\n",
    "            "
   ]
  },
  {
   "cell_type": "code",
   "execution_count": null,
   "metadata": {},
   "outputs": [
    {
     "data": {
      "text/plain": [
       "(5, 101, 91, 12)"
      ]
     },
     "execution_count": 76,
     "metadata": {},
     "output_type": "execute_result"
    }
   ],
   "source": [
    "full_stack.shape"
   ]
  },
  {
   "cell_type": "code",
   "execution_count": null,
   "metadata": {},
   "outputs": [],
   "source": []
  },
  {
   "cell_type": "code",
   "execution_count": 6,
   "metadata": {},
   "outputs": [],
   "source": [
    "import h5py"
   ]
  },
  {
   "cell_type": "code",
   "execution_count": 7,
   "metadata": {},
   "outputs": [],
   "source": [
    "hf = h5py.File('data.h5', 'w')\n",
    "hf.create_dataset('clip', data=full_stack,compression=\"gzip\", compression_opts=9)\n",
    "hf.close()"
   ]
  }
 ],
 "metadata": {
  "kernelspec": {
   "display_name": "Python 3",
   "language": "python",
   "name": "python3"
  },
  "language_info": {
   "codemirror_mode": {
    "name": "ipython",
    "version": 3
   },
   "file_extension": ".py",
   "mimetype": "text/x-python",
   "name": "python",
   "nbconvert_exporter": "python",
   "pygments_lexer": "ipython3",
   "version": "3.7.3"
  },
  "varInspector": {
   "cols": {
    "lenName": 16,
    "lenType": 16,
    "lenVar": 40
   },
   "kernels_config": {
    "python": {
     "delete_cmd_postfix": "",
     "delete_cmd_prefix": "del ",
     "library": "var_list.py",
     "varRefreshCmd": "print(var_dic_list())"
    },
    "r": {
     "delete_cmd_postfix": ") ",
     "delete_cmd_prefix": "rm(",
     "library": "var_list.r",
     "varRefreshCmd": "cat(var_dic_list()) "
    }
   },
   "types_to_exclude": [
    "module",
    "function",
    "builtin_function_or_method",
    "instance",
    "_Feature"
   ],
   "window_display": false
  }
 },
 "nbformat": 4,
 "nbformat_minor": 2
}
